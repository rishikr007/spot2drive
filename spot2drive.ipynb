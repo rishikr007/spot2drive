{
  "cells": [
    {
      "cell_type": "code",
      "execution_count": null,
      "metadata": {
        "colab": {
          "base_uri": "https://localhost:8080/"
        },
        "id": "dLw3tv_Oa7Eg",
        "outputId": "133903bb-b097-445e-959e-638e3312e6f3"
      },
      "outputs": [
        {
          "name": "stdout",
          "output_type": "stream",
          "text": [
            "Mounted at /content/drive\n"
          ]
        }
      ],
      "source": [
        "from google.colab import drive\n",
        "import os\n",
        "\n",
        "drive.mount('/content/drive')\n",
        "\n",
        "def setup_spotdl():\n",
        "    \"\"\"Install spotdl and dependencies\"\"\"\n",
        "    !pip install spotdl yt-dlp ffmpeg-python\n",
        "    print(\"Setup complete!\")"
      ]
    },
    {
      "cell_type": "code",
      "execution_count": null,
      "metadata": {
        "colab": {
          "background_save": true
        },
        "id": "OXoiyHtobMV_"
      },
      "outputs": [],
      "source": [
        "import os\n",
        "import time\n",
        "\n",
        "def download_spotify_urls(spotify_urls, output_folder=\"/content/drive/MyDrive/Spott\"):\n",
        "    \"\"\"Download all songs from multiple Spotify playlists or albums.\"\"\"\n",
        "    os.makedirs(output_folder, exist_ok=True)\n",
        "\n",
        "    for url in spotify_urls:\n",
        "        url = url.strip()\n",
        "        if not url:\n",
        "            continue\n",
        "        print(f\"\\nStarting download for: {url}\")\n",
        "        for attempt in range(5):\n",
        "            try:\n",
        "                # Using spotdl\n",
        "                !spotdl {url} --output \"{output_folder}/%(track_name)s.%(ext)s\"\n",
        "                print(f\"Download complete for {url}! Files saved to {output_folder}\")\n",
        "                break\n",
        "            except Exception as e:\n",
        "                print(f\"Error occurred with {url}: {str(e)}\")\n",
        "                if \"429\" in str(e):\n",
        "                    print(\"Rate limit exceeded; waiting 30 seconds before retrying...\")\n",
        "                    time.sleep(30)\n",
        "                else:\n",
        "                    print(\"An unexpected error occurred. Skipping to next URL.\")\n",
        "                    break\n",
        "\n",
        "setup_spotdl()\n",
        "\n",
        "spotify_urls = []\n",
        "print(\"Enter Spotify playlist or album URLs one by one. Type 'Exit' when you're done:\\n\")\n",
        "\n",
        "while True:\n",
        "    user_input = input(\"Enter playlist or album URL (or type 'Exit' to finish): \").strip()\n",
        "    if user_input.lower() == 'exit':\n",
        "        break\n",
        "    if user_input:\n",
        "        spotify_urls.append(user_input)\n",
        "\n",
        "if spotify_urls:\n",
        "    download_spotify_urls(spotify_urls)\n",
        "else:\n",
        "    print(\"No URLs provided. Exiting.\")"
      ]
    }
  ],
  "metadata": {
    "accelerator": "TPU",
    "colab": {
      "gpuType": "V28",
      "provenance": []
    },
    "kernelspec": {
      "display_name": "Python 3",
      "name": "python3"
    },
    "language_info": {
      "name": "python"
    }
  },
  "nbformat": 4,
  "nbformat_minor": 0
}
